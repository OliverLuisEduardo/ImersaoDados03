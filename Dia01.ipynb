{
  "nbformat": 4,
  "nbformat_minor": 0,
  "metadata": {
    "colab": {
      "name": "Dia01.ipynb",
      "provenance": [],
      "authorship_tag": "ABX9TyOBmT4O4qkAako1KzG/q98R",
      "include_colab_link": true
    },
    "kernelspec": {
      "name": "python3",
      "display_name": "Python 3"
    },
    "language_info": {
      "name": "python"
    }
  },
  "cells": [
    {
      "cell_type": "markdown",
      "metadata": {
        "id": "view-in-github",
        "colab_type": "text"
      },
      "source": [
        "<a href=\"https://colab.research.google.com/github/OliverLuisEduardo/ImersaoDados03/blob/main/Dia01.ipynb\" target=\"_parent\"><img src=\"https://colab.research.google.com/assets/colab-badge.svg\" alt=\"Open In Colab\"/></a>"
      ]
    },
    {
      "cell_type": "code",
      "metadata": {
        "id": "Q7QCiOfKFKdW"
      },
      "source": [
        "import pandas as pd\n",
        "\n",
        "urlDados = 'https://github.com/alura-cursos/imersaodados3/blob/main/dados/dados_experimentos.zip?raw=true'\n",
        "dados = pd.read_csv(urlDados, compression='zip')\n",
        "\n",
        "dados"
      ],
      "execution_count": null,
      "outputs": []
    },
    {
      "cell_type": "code",
      "metadata": {
        "id": "SCzU5Ed6QFut"
      },
      "source": [
        "dados.head()"
      ],
      "execution_count": null,
      "outputs": []
    },
    {
      "cell_type": "markdown",
      "metadata": {
        "id": "6tdeOMMXZi89"
      },
      "source": [
        "O unique irá pegar todos os dados unicos daquela coluna, colocando em um array."
      ]
    },
    {
      "cell_type": "code",
      "metadata": {
        "colab": {
          "base_uri": "https://localhost:8080/"
        },
        "id": "n09jCsXIFngt",
        "outputId": "93e971e8-4e52-4641-bdb4-5ceef54a27d2"
      },
      "source": [
        "dados['tratamento'].unique()"
      ],
      "execution_count": null,
      "outputs": [
        {
          "output_type": "execute_result",
          "data": {
            "text/plain": [
              "array(['com_droga', 'com_controle'], dtype=object)"
            ]
          },
          "metadata": {
            "tags": []
          },
          "execution_count": 3
        }
      ]
    },
    {
      "cell_type": "code",
      "metadata": {
        "id": "ozju5Cf6KR8n"
      },
      "source": [
        "dados['tempo'].unique()"
      ],
      "execution_count": null,
      "outputs": []
    },
    {
      "cell_type": "code",
      "metadata": {
        "id": "LAF_-lU3KUIm"
      },
      "source": [
        "dados['dose'].unique()"
      ],
      "execution_count": null,
      "outputs": []
    },
    {
      "cell_type": "code",
      "metadata": {
        "id": "UmvTJvaSKX93",
        "colab": {
          "base_uri": "https://localhost:8080/"
        },
        "outputId": "5254a560-05fa-4d18-8664-fe7058b961ff"
      },
      "source": [
        "dados['droga'].unique()"
      ],
      "execution_count": 9,
      "outputs": [
        {
          "output_type": "execute_result",
          "data": {
            "text/plain": [
              "array(['b68db1d53', 'df89a8e5a', '18bb41b2c', ..., '573c787a2',\n",
              "       'b2fe3eca7', 'dd4a96d16'], dtype=object)"
            ]
          },
          "metadata": {
            "tags": []
          },
          "execution_count": 9
        }
      ]
    },
    {
      "cell_type": "markdown",
      "metadata": {
        "id": "Sa7RziACZsBt"
      },
      "source": [
        "Aqui será pego uma coluna da base de dados e contar os valores de cada dado único."
      ]
    },
    {
      "cell_type": "code",
      "metadata": {
        "colab": {
          "base_uri": "https://localhost:8080/"
        },
        "id": "eT4dq00VO4PR",
        "outputId": "a63b902c-5cea-4074-d101-7d55d0e93740"
      },
      "source": [
        "dados['tratamento'].value_counts()"
      ],
      "execution_count": null,
      "outputs": [
        {
          "output_type": "execute_result",
          "data": {
            "text/plain": [
              "com_droga       21948\n",
              "com_controle     1866\n",
              "Name: tratamento, dtype: int64"
            ]
          },
          "metadata": {
            "tags": []
          },
          "execution_count": 23
        }
      ]
    },
    {
      "cell_type": "markdown",
      "metadata": {
        "id": "-8VZUFOIpEpf"
      },
      "source": [
        "Aqui os dados são normalizados, encontramos a proporção."
      ]
    },
    {
      "cell_type": "code",
      "metadata": {
        "id": "YanRGZpoZPMk",
        "colab": {
          "base_uri": "https://localhost:8080/"
        },
        "outputId": "1c41952f-33f4-47b7-a19c-42b6ec868256"
      },
      "source": [
        "dados['tratamento'].value_counts(normalize = True)"
      ],
      "execution_count": 17,
      "outputs": [
        {
          "output_type": "execute_result",
          "data": {
            "text/plain": [
              "com_droga       0.921643\n",
              "com_controle    0.078357\n",
              "Name: tratamento, dtype: float64"
            ]
          },
          "metadata": {
            "tags": []
          },
          "execution_count": 17
        }
      ]
    },
    {
      "cell_type": "code",
      "metadata": {
        "colab": {
          "base_uri": "https://localhost:8080/"
        },
        "id": "ixywEE1bp3q1",
        "outputId": "b42f6bb3-dc83-4e46-d9f4-cca6562cfbb3"
      },
      "source": [
        "dados['dose'].value_counts(normalize = True)"
      ],
      "execution_count": 14,
      "outputs": [
        {
          "output_type": "execute_result",
          "data": {
            "text/plain": [
              "D1    0.510078\n",
              "D2    0.489922\n",
              "Name: dose, dtype: float64"
            ]
          },
          "metadata": {
            "tags": []
          },
          "execution_count": 14
        }
      ]
    },
    {
      "cell_type": "markdown",
      "metadata": {
        "id": "GVQcwgiPp7Tz"
      },
      "source": [
        "Aqui sera plotado um grafico pizza com a contagem dos valores de tratamento."
      ]
    },
    {
      "cell_type": "code",
      "metadata": {
        "colab": {
          "base_uri": "https://localhost:8080/",
          "height": 266
        },
        "id": "iWrJyFvpp713",
        "outputId": "0cb7f62d-92f9-43bb-ea7b-afa5ff1aeafa"
      },
      "source": [
        "dados['tratamento'].value_counts().plot.pie()"
      ],
      "execution_count": 12,
      "outputs": [
        {
          "output_type": "execute_result",
          "data": {
            "text/plain": [
              "<matplotlib.axes._subplots.AxesSubplot at 0x7f8d82d01dd0>"
            ]
          },
          "metadata": {
            "tags": []
          },
          "execution_count": 12
        },
        {
          "output_type": "display_data",
          "data": {
            "image/png": "[encoded data removed]",
            "text/plain": [
              "<Figure size 432x288 with 1 Axes>"
            ]
          },
          "metadata": {
            "tags": []
          }
        }
      ]
    },
    {
      "cell_type": "code",
      "metadata": {
        "colab": {
          "base_uri": "https://localhost:8080/",
          "height": 286
        },
        "id": "7gP68Bszqaot",
        "outputId": "4539558d-359a-48c5-c16c-395c80c9580f"
      },
      "source": [
        "dados['tempo'].value_counts().plot.bar()"
      ],
      "execution_count": 23,
      "outputs": [
        {
          "output_type": "execute_result",
          "data": {
            "text/plain": [
              "<matplotlib.axes._subplots.AxesSubplot at 0x7f8d81b69590>"
            ]
          },
          "metadata": {
            "tags": []
          },
          "execution_count": 23
        },
        {
          "output_type": "display_data",
          "data": {
            "image/png": "[encoded data removed]",
            "text/plain": [
              "<Figure size 432x288 with 1 Axes>"
            ]
          },
          "metadata": {
            "tags": [],
            "needs_background": "light"
          }
        }
      ]
    },
    {
      "cell_type": "markdown",
      "metadata": {
        "id": "ZyHu_SGFsjsv"
      },
      "source": [
        "Aqui fiz uma contagem dos dados g0 que sejam maior que zero."
      ]
    },
    {
      "cell_type": "code",
      "metadata": {
        "colab": {
          "base_uri": "https://localhost:8080/"
        },
        "id": "lk2VlTdesU-t",
        "outputId": "992a3146-9b77-4574-8ca7-6ab11514824f"
      },
      "source": [
        "expressao = dados['g-0'] > 0\n",
        "expressao.value_counts()"
      ],
      "execution_count": 26,
      "outputs": [
        {
          "output_type": "execute_result",
          "data": {
            "text/plain": [
              "False    12045\n",
              "True     11769\n",
              "Name: g-0, dtype: int64"
            ]
          },
          "metadata": {
            "tags": []
          },
          "execution_count": 26
        }
      ]
    },
    {
      "cell_type": "markdown",
      "metadata": {
        "id": "kahC2989st24"
      },
      "source": [
        "Aqui foi colocado um filtro/mascara que restringe a seleção e só será mostrada os valores True"
      ]
    },
    {
      "cell_type": "code",
      "metadata": {
        "colab": {
          "base_uri": "https://localhost:8080/",
          "height": 256
        },
        "id": "7IB8aXr5snVk",
        "outputId": "386f8849-2730-4dd2-f739-809cf4c1fb57"
      },
      "source": [
        "dadosFiltrados = dados[dados['g-0'] > 0]\n",
        "dadosFiltrados.head()"
      ],
      "execution_count": 30,
      "outputs": [
        {
          "output_type": "execute_result",
          "data": {
            "text/html": [
              "<div>\n",
              "<style scoped>\n",
              "    .dataframe tbody tr th:only-of-type {\n",
              "        vertical-align: middle;\n",
              "    }\n",
              "\n",
              "    .dataframe tbody tr th {\n",
              "        vertical-align: top;\n",
              "    }\n",
              "\n",
              "    .dataframe thead th {\n",
              "        text-align: right;\n",
              "    }\n",
              "</style>\n",
              "<table border=\"1\" class=\"dataframe\">\n",
              "  <thead>\n",
              "    <tr style=\"text-align: right;\">\n",
              "      <th></th>\n",
              "      <th>id</th>\n",
              "      <th>tratamento</th>\n",
              "      <th>tempo</th>\n",
              "      <th>dose</th>\n",
              "      <th>droga</th>\n",
              "      <th>g-0</th>\n",
              "      <th>g-1</th>\n",
              "      <th>g-2</th>\n",
              "      <th>g-3</th>\n",
              "      <th>g-4</th>\n",
              "      <th>g-5</th>\n",
              "      <th>g-6</th>\n",
              "      <th>g-7</th>\n",
              "      <th>g-8</th>\n",
              "      <th>g-9</th>\n",
              "      <th>g-10</th>\n",
              "      <th>g-11</th>\n",
              "      <th>g-12</th>\n",
              "      <th>g-13</th>\n",
              "      <th>g-14</th>\n",
              "      <th>g-15</th>\n",
              "      <th>g-16</th>\n",
              "      <th>g-17</th>\n",
              "      <th>g-18</th>\n",
              "      <th>g-19</th>\n",
              "      <th>g-20</th>\n",
              "      <th>g-21</th>\n",
              "      <th>g-22</th>\n",
              "      <th>g-23</th>\n",
              "      <th>g-24</th>\n",
              "      <th>g-25</th>\n",
              "      <th>g-26</th>\n",
              "      <th>g-27</th>\n",
              "      <th>g-28</th>\n",
              "      <th>g-29</th>\n",
              "      <th>g-30</th>\n",
              "      <th>g-31</th>\n",
              "      <th>g-32</th>\n",
              "      <th>g-33</th>\n",
              "      <th>g-34</th>\n",
              "      <th>...</th>\n",
              "      <th>c-60</th>\n",
              "      <th>c-61</th>\n",
              "      <th>c-62</th>\n",
              "      <th>c-63</th>\n",
              "      <th>c-64</th>\n",
              "      <th>c-65</th>\n",
              "      <th>c-66</th>\n",
              "      <th>c-67</th>\n",
              "      <th>c-68</th>\n",
              "      <th>c-69</th>\n",
              "      <th>c-70</th>\n",
              "      <th>c-71</th>\n",
              "      <th>c-72</th>\n",
              "      <th>c-73</th>\n",
              "      <th>c-74</th>\n",
              "      <th>c-75</th>\n",
              "      <th>c-76</th>\n",
              "      <th>c-77</th>\n",
              "      <th>c-78</th>\n",
              "      <th>c-79</th>\n",
              "      <th>c-80</th>\n",
              "      <th>c-81</th>\n",
              "      <th>c-82</th>\n",
              "      <th>c-83</th>\n",
              "      <th>c-84</th>\n",
              "      <th>c-85</th>\n",
              "      <th>c-86</th>\n",
              "      <th>c-87</th>\n",
              "      <th>c-88</th>\n",
              "      <th>c-89</th>\n",
              "      <th>c-90</th>\n",
              "      <th>c-91</th>\n",
              "      <th>c-92</th>\n",
              "      <th>c-93</th>\n",
              "      <th>c-94</th>\n",
              "      <th>c-95</th>\n",
              "      <th>c-96</th>\n",
              "      <th>c-97</th>\n",
              "      <th>c-98</th>\n",
              "      <th>c-99</th>\n",
              "    </tr>\n",
              "  </thead>\n",
              "  <tbody>\n",
              "    <tr>\n",
              "      <th>0</th>\n",
              "      <td>id_000644bb2</td>\n",
              "      <td>com_droga</td>\n",
              "      <td>24</td>\n",
              "      <td>D1</td>\n",
              "      <td>b68db1d53</td>\n",
              "      <td>1.0620</td>\n",
              "      <td>0.5577</td>\n",
              "      <td>-0.2479</td>\n",
              "      <td>-0.6208</td>\n",
              "      <td>-0.1944</td>\n",
              "      <td>-1.0120</td>\n",
              "      <td>-1.0220</td>\n",
              "      <td>-0.0326</td>\n",
              "      <td>0.5548</td>\n",
              "      <td>-0.0921</td>\n",
              "      <td>1.1830</td>\n",
              "      <td>0.1530</td>\n",
              "      <td>0.5574</td>\n",
              "      <td>-0.4015</td>\n",
              "      <td>0.1789</td>\n",
              "      <td>-0.6528</td>\n",
              "      <td>-0.7969</td>\n",
              "      <td>0.6342</td>\n",
              "      <td>0.1778</td>\n",
              "      <td>-0.3694</td>\n",
              "      <td>-0.5688</td>\n",
              "      <td>-1.1360</td>\n",
              "      <td>-1.1880</td>\n",
              "      <td>0.6940</td>\n",
              "      <td>0.4393</td>\n",
              "      <td>0.2664</td>\n",
              "      <td>0.1907</td>\n",
              "      <td>0.1628</td>\n",
              "      <td>-0.2853</td>\n",
              "      <td>0.5819</td>\n",
              "      <td>0.2934</td>\n",
              "      <td>-0.5584</td>\n",
              "      <td>-0.0916</td>\n",
              "      <td>-0.3010</td>\n",
              "      <td>-0.1537</td>\n",
              "      <td>...</td>\n",
              "      <td>0.4805</td>\n",
              "      <td>0.4965</td>\n",
              "      <td>0.3680</td>\n",
              "      <td>0.8427</td>\n",
              "      <td>0.1042</td>\n",
              "      <td>0.1403</td>\n",
              "      <td>0.1758</td>\n",
              "      <td>1.2570</td>\n",
              "      <td>-0.5979</td>\n",
              "      <td>1.2250</td>\n",
              "      <td>-0.0553</td>\n",
              "      <td>0.7351</td>\n",
              "      <td>0.5810</td>\n",
              "      <td>0.9590</td>\n",
              "      <td>0.2427</td>\n",
              "      <td>0.0495</td>\n",
              "      <td>0.4141</td>\n",
              "      <td>0.8432</td>\n",
              "      <td>0.6162</td>\n",
              "      <td>-0.7318</td>\n",
              "      <td>1.2120</td>\n",
              "      <td>0.6362</td>\n",
              "      <td>-0.4427</td>\n",
              "      <td>0.1288</td>\n",
              "      <td>1.4840</td>\n",
              "      <td>0.1799</td>\n",
              "      <td>0.5367</td>\n",
              "      <td>-0.1111</td>\n",
              "      <td>-1.0120</td>\n",
              "      <td>0.6685</td>\n",
              "      <td>0.2862</td>\n",
              "      <td>0.2584</td>\n",
              "      <td>0.8076</td>\n",
              "      <td>0.5523</td>\n",
              "      <td>-0.1912</td>\n",
              "      <td>0.6584</td>\n",
              "      <td>-0.3981</td>\n",
              "      <td>0.2139</td>\n",
              "      <td>0.3801</td>\n",
              "      <td>0.4176</td>\n",
              "    </tr>\n",
              "    <tr>\n",
              "      <th>1</th>\n",
              "      <td>id_000779bfc</td>\n",
              "      <td>com_droga</td>\n",
              "      <td>72</td>\n",
              "      <td>D1</td>\n",
              "      <td>df89a8e5a</td>\n",
              "      <td>0.0743</td>\n",
              "      <td>0.4087</td>\n",
              "      <td>0.2991</td>\n",
              "      <td>0.0604</td>\n",
              "      <td>1.0190</td>\n",
              "      <td>0.5207</td>\n",
              "      <td>0.2341</td>\n",
              "      <td>0.3372</td>\n",
              "      <td>-0.4047</td>\n",
              "      <td>0.8507</td>\n",
              "      <td>-1.1520</td>\n",
              "      <td>-0.4201</td>\n",
              "      <td>-0.0958</td>\n",
              "      <td>0.4590</td>\n",
              "      <td>0.0803</td>\n",
              "      <td>0.2250</td>\n",
              "      <td>0.5293</td>\n",
              "      <td>0.2839</td>\n",
              "      <td>-0.3494</td>\n",
              "      <td>0.2883</td>\n",
              "      <td>0.9449</td>\n",
              "      <td>-0.1646</td>\n",
              "      <td>-0.2657</td>\n",
              "      <td>-0.3372</td>\n",
              "      <td>0.3135</td>\n",
              "      <td>-0.4316</td>\n",
              "      <td>0.4773</td>\n",
              "      <td>0.2075</td>\n",
              "      <td>-0.4216</td>\n",
              "      <td>-0.1161</td>\n",
              "      <td>-0.0499</td>\n",
              "      <td>-0.2627</td>\n",
              "      <td>0.9959</td>\n",
              "      <td>-0.2483</td>\n",
              "      <td>0.2655</td>\n",
              "      <td>...</td>\n",
              "      <td>0.4083</td>\n",
              "      <td>0.0319</td>\n",
              "      <td>0.3905</td>\n",
              "      <td>0.7099</td>\n",
              "      <td>0.2912</td>\n",
              "      <td>0.4151</td>\n",
              "      <td>-0.2840</td>\n",
              "      <td>-0.3104</td>\n",
              "      <td>-0.6373</td>\n",
              "      <td>0.2887</td>\n",
              "      <td>-0.0765</td>\n",
              "      <td>0.2539</td>\n",
              "      <td>0.4443</td>\n",
              "      <td>0.5932</td>\n",
              "      <td>0.2031</td>\n",
              "      <td>0.7639</td>\n",
              "      <td>0.5499</td>\n",
              "      <td>-0.3322</td>\n",
              "      <td>-0.0977</td>\n",
              "      <td>0.4329</td>\n",
              "      <td>-0.2782</td>\n",
              "      <td>0.7827</td>\n",
              "      <td>0.5934</td>\n",
              "      <td>0.3402</td>\n",
              "      <td>0.1499</td>\n",
              "      <td>0.4420</td>\n",
              "      <td>0.9366</td>\n",
              "      <td>0.8193</td>\n",
              "      <td>-0.4236</td>\n",
              "      <td>0.3192</td>\n",
              "      <td>-0.4265</td>\n",
              "      <td>0.7543</td>\n",
              "      <td>0.4708</td>\n",
              "      <td>0.0230</td>\n",
              "      <td>0.2957</td>\n",
              "      <td>0.4899</td>\n",
              "      <td>0.1522</td>\n",
              "      <td>0.1241</td>\n",
              "      <td>0.6077</td>\n",
              "      <td>0.7371</td>\n",
              "    </tr>\n",
              "    <tr>\n",
              "      <th>2</th>\n",
              "      <td>id_000a6266a</td>\n",
              "      <td>com_droga</td>\n",
              "      <td>48</td>\n",
              "      <td>D1</td>\n",
              "      <td>18bb41b2c</td>\n",
              "      <td>0.6280</td>\n",
              "      <td>0.5817</td>\n",
              "      <td>1.5540</td>\n",
              "      <td>-0.0764</td>\n",
              "      <td>-0.0323</td>\n",
              "      <td>1.2390</td>\n",
              "      <td>0.1715</td>\n",
              "      <td>0.2155</td>\n",
              "      <td>0.0065</td>\n",
              "      <td>1.2300</td>\n",
              "      <td>-0.4797</td>\n",
              "      <td>-0.5631</td>\n",
              "      <td>-0.0366</td>\n",
              "      <td>-1.8300</td>\n",
              "      <td>0.6057</td>\n",
              "      <td>-0.3278</td>\n",
              "      <td>0.6042</td>\n",
              "      <td>-0.3075</td>\n",
              "      <td>-0.1147</td>\n",
              "      <td>-0.0570</td>\n",
              "      <td>-0.0799</td>\n",
              "      <td>-0.8181</td>\n",
              "      <td>-1.5320</td>\n",
              "      <td>0.2307</td>\n",
              "      <td>0.4901</td>\n",
              "      <td>0.4780</td>\n",
              "      <td>-1.3970</td>\n",
              "      <td>4.6240</td>\n",
              "      <td>-0.0437</td>\n",
              "      <td>1.2870</td>\n",
              "      <td>-1.8530</td>\n",
              "      <td>0.6069</td>\n",
              "      <td>0.4290</td>\n",
              "      <td>0.1783</td>\n",
              "      <td>0.0018</td>\n",
              "      <td>...</td>\n",
              "      <td>-0.5477</td>\n",
              "      <td>-0.7576</td>\n",
              "      <td>-0.0444</td>\n",
              "      <td>0.1894</td>\n",
              "      <td>-0.0014</td>\n",
              "      <td>-2.3640</td>\n",
              "      <td>-0.4682</td>\n",
              "      <td>0.1210</td>\n",
              "      <td>-0.5177</td>\n",
              "      <td>-0.0604</td>\n",
              "      <td>0.1682</td>\n",
              "      <td>-0.4436</td>\n",
              "      <td>0.4963</td>\n",
              "      <td>0.1363</td>\n",
              "      <td>0.3335</td>\n",
              "      <td>0.9760</td>\n",
              "      <td>-0.0427</td>\n",
              "      <td>-0.1235</td>\n",
              "      <td>0.0959</td>\n",
              "      <td>0.0690</td>\n",
              "      <td>-0.9416</td>\n",
              "      <td>-0.7548</td>\n",
              "      <td>-0.1109</td>\n",
              "      <td>-0.6272</td>\n",
              "      <td>0.3019</td>\n",
              "      <td>0.1172</td>\n",
              "      <td>0.1093</td>\n",
              "      <td>-0.3113</td>\n",
              "      <td>0.3019</td>\n",
              "      <td>-0.0873</td>\n",
              "      <td>-0.7250</td>\n",
              "      <td>-0.6297</td>\n",
              "      <td>0.6103</td>\n",
              "      <td>0.0223</td>\n",
              "      <td>-1.3240</td>\n",
              "      <td>-0.3174</td>\n",
              "      <td>-0.6417</td>\n",
              "      <td>-0.2187</td>\n",
              "      <td>-1.4080</td>\n",
              "      <td>0.6931</td>\n",
              "    </tr>\n",
              "    <tr>\n",
              "      <th>6</th>\n",
              "      <td>id_001bd861f</td>\n",
              "      <td>com_droga</td>\n",
              "      <td>24</td>\n",
              "      <td>D2</td>\n",
              "      <td>746ca1f5a</td>\n",
              "      <td>2.0440</td>\n",
              "      <td>1.7000</td>\n",
              "      <td>-1.5390</td>\n",
              "      <td>5.9440</td>\n",
              "      <td>-2.1670</td>\n",
              "      <td>-4.0360</td>\n",
              "      <td>3.6950</td>\n",
              "      <td>1.4530</td>\n",
              "      <td>0.9724</td>\n",
              "      <td>-2.4380</td>\n",
              "      <td>5.1340</td>\n",
              "      <td>-4.6600</td>\n",
              "      <td>5.7960</td>\n",
              "      <td>4.9700</td>\n",
              "      <td>1.5540</td>\n",
              "      <td>2.4790</td>\n",
              "      <td>-3.8010</td>\n",
              "      <td>-1.0230</td>\n",
              "      <td>5.3110</td>\n",
              "      <td>-0.5660</td>\n",
              "      <td>-4.4450</td>\n",
              "      <td>1.2210</td>\n",
              "      <td>1.3750</td>\n",
              "      <td>0.3932</td>\n",
              "      <td>0.3392</td>\n",
              "      <td>4.3510</td>\n",
              "      <td>5.7540</td>\n",
              "      <td>-1.6590</td>\n",
              "      <td>5.3000</td>\n",
              "      <td>5.6050</td>\n",
              "      <td>5.5320</td>\n",
              "      <td>3.7860</td>\n",
              "      <td>0.9197</td>\n",
              "      <td>1.9310</td>\n",
              "      <td>2.4870</td>\n",
              "      <td>...</td>\n",
              "      <td>-0.8904</td>\n",
              "      <td>2.0590</td>\n",
              "      <td>0.5052</td>\n",
              "      <td>0.6890</td>\n",
              "      <td>0.5340</td>\n",
              "      <td>0.5135</td>\n",
              "      <td>0.6507</td>\n",
              "      <td>0.9838</td>\n",
              "      <td>0.4532</td>\n",
              "      <td>-0.3212</td>\n",
              "      <td>0.2662</td>\n",
              "      <td>0.6864</td>\n",
              "      <td>1.6300</td>\n",
              "      <td>1.3810</td>\n",
              "      <td>0.0061</td>\n",
              "      <td>0.2908</td>\n",
              "      <td>0.2598</td>\n",
              "      <td>0.1266</td>\n",
              "      <td>-0.3526</td>\n",
              "      <td>1.1750</td>\n",
              "      <td>-1.1030</td>\n",
              "      <td>1.3650</td>\n",
              "      <td>1.0610</td>\n",
              "      <td>0.4034</td>\n",
              "      <td>1.0880</td>\n",
              "      <td>-0.4230</td>\n",
              "      <td>0.4013</td>\n",
              "      <td>0.1726</td>\n",
              "      <td>0.7464</td>\n",
              "      <td>0.9418</td>\n",
              "      <td>0.1855</td>\n",
              "      <td>1.1720</td>\n",
              "      <td>0.8325</td>\n",
              "      <td>0.6486</td>\n",
              "      <td>0.8090</td>\n",
              "      <td>1.5880</td>\n",
              "      <td>2.4670</td>\n",
              "      <td>0.0357</td>\n",
              "      <td>0.1351</td>\n",
              "      <td>-0.3179</td>\n",
              "    </tr>\n",
              "    <tr>\n",
              "      <th>7</th>\n",
              "      <td>id_0020d0484</td>\n",
              "      <td>com_droga</td>\n",
              "      <td>48</td>\n",
              "      <td>D1</td>\n",
              "      <td>8b87a7a83</td>\n",
              "      <td>0.2711</td>\n",
              "      <td>0.5133</td>\n",
              "      <td>-0.1327</td>\n",
              "      <td>2.5950</td>\n",
              "      <td>0.6980</td>\n",
              "      <td>0.5846</td>\n",
              "      <td>-0.2633</td>\n",
              "      <td>-2.1490</td>\n",
              "      <td>0.4881</td>\n",
              "      <td>1.4750</td>\n",
              "      <td>-0.0488</td>\n",
              "      <td>-0.0561</td>\n",
              "      <td>0.1641</td>\n",
              "      <td>0.1749</td>\n",
              "      <td>-0.3464</td>\n",
              "      <td>-0.1811</td>\n",
              "      <td>0.5685</td>\n",
              "      <td>1.2970</td>\n",
              "      <td>1.0510</td>\n",
              "      <td>-0.9585</td>\n",
              "      <td>0.7911</td>\n",
              "      <td>-0.2991</td>\n",
              "      <td>2.7420</td>\n",
              "      <td>-0.5979</td>\n",
              "      <td>-1.0240</td>\n",
              "      <td>0.7268</td>\n",
              "      <td>0.1590</td>\n",
              "      <td>-1.9730</td>\n",
              "      <td>1.1340</td>\n",
              "      <td>-2.5720</td>\n",
              "      <td>0.2068</td>\n",
              "      <td>0.9992</td>\n",
              "      <td>-0.1958</td>\n",
              "      <td>0.2262</td>\n",
              "      <td>1.0140</td>\n",
              "      <td>...</td>\n",
              "      <td>-0.2623</td>\n",
              "      <td>-0.5500</td>\n",
              "      <td>-0.0530</td>\n",
              "      <td>0.2077</td>\n",
              "      <td>-0.0825</td>\n",
              "      <td>0.2156</td>\n",
              "      <td>0.8142</td>\n",
              "      <td>1.0990</td>\n",
              "      <td>1.0860</td>\n",
              "      <td>0.4011</td>\n",
              "      <td>-0.1342</td>\n",
              "      <td>0.4653</td>\n",
              "      <td>-0.1104</td>\n",
              "      <td>0.3935</td>\n",
              "      <td>1.2370</td>\n",
              "      <td>-0.5072</td>\n",
              "      <td>0.0351</td>\n",
              "      <td>0.5084</td>\n",
              "      <td>-0.1248</td>\n",
              "      <td>0.4351</td>\n",
              "      <td>0.1389</td>\n",
              "      <td>0.6726</td>\n",
              "      <td>0.6070</td>\n",
              "      <td>0.3431</td>\n",
              "      <td>-0.4116</td>\n",
              "      <td>0.1194</td>\n",
              "      <td>0.3420</td>\n",
              "      <td>0.1331</td>\n",
              "      <td>0.8541</td>\n",
              "      <td>0.6282</td>\n",
              "      <td>0.3230</td>\n",
              "      <td>-0.4140</td>\n",
              "      <td>0.2532</td>\n",
              "      <td>0.0513</td>\n",
              "      <td>0.8600</td>\n",
              "      <td>1.4250</td>\n",
              "      <td>0.6633</td>\n",
              "      <td>0.4562</td>\n",
              "      <td>-0.9622</td>\n",
              "      <td>0.0260</td>\n",
              "    </tr>\n",
              "  </tbody>\n",
              "</table>\n",
              "<p>5 rows × 877 columns</p>\n",
              "</div>"
            ],
            "text/plain": [
              "             id tratamento  tempo dose  ...    c-96    c-97    c-98    c-99\n",
              "0  id_000644bb2  com_droga     24   D1  ... -0.3981  0.2139  0.3801  0.4176\n",
              "1  id_000779bfc  com_droga     72   D1  ...  0.1522  0.1241  0.6077  0.7371\n",
              "2  id_000a6266a  com_droga     48   D1  ... -0.6417 -0.2187 -1.4080  0.6931\n",
              "6  id_001bd861f  com_droga     24   D2  ...  2.4670  0.0357  0.1351 -0.3179\n",
              "7  id_0020d0484  com_droga     48   D1  ...  0.6633  0.4562 -0.9622  0.0260\n",
              "\n",
              "[5 rows x 877 columns]"
            ]
          },
          "metadata": {
            "tags": []
          },
          "execution_count": 30
        }
      ]
    },
    {
      "cell_type": "markdown",
      "metadata": {
        "id": "0jftf5y1Puto"
      },
      "source": [
        "#**Desafios**\n",
        "\n",
        "###Desafio 01: Por que a classe tratamento é tão desbalanceada\n",
        "######Encontrei o mesmo valor na droga cacb2b860, o controle é feito com uma só droga ao invés de todas.\n",
        "```\n",
        "Resposta: dados['droga'].value_counts()\n",
        "```\n",
        "\n",
        "---\n",
        "\n",
        "###Desafio 02: Plotar as 5 ultimas como na head (2)\n",
        "```\n",
        "Resposta: dados.tail()\n",
        "```\n",
        "\n",
        "---\n",
        "\n",
        "###Desafio 03: Calcular a proporção da classe tratamento na documentação do pandas\n",
        "```\n",
        "Resposta: dados['tratamento'].value_counts(normalize = True)\n",
        "```\n",
        "---\n",
        "\n",
        "###Desafio 04: Quantos tipos de drogas foram investigados\n",
        "######Encontrei o total das drogas contando o comprimento da lista de valores de cada uma.\n",
        "```\n",
        "Resposta: dados['droga'].value_counts()\n",
        "```\n",
        "\n",
        "---\n",
        "\n",
        "###Desafio 05: Procurar na documentação o método query (pandas).\n",
        "```\n",
        "Resposta: A\n",
        "```\n",
        "\n",
        "---\n",
        "\n",
        "###Desafio 06: Customizar os graficos que foram impressos, colocar titulo e labels (matplotlib.pyplot)\n",
        "```\n",
        "Resposta: A\n",
        "```\n",
        "\n",
        "---\n",
        "\n",
        "###Desafio 07: O Python não lida muito bem com hifen (-) nos nomes então vamos mudar os dados com hifen (g-0). Tentar utilizar query\n",
        "```\n",
        "Resposta: A\n",
        "```\n",
        "\n",
        "---\n",
        "\n",
        "###Desafio 08: Resumo do que você aprendeu analisando.\n",
        "```\n",
        "Resposta: A\n",
        "```\n",
        "\n",
        "\n",
        "\n",
        "\n",
        "\n",
        "\n"
      ]
    }
  ]
}